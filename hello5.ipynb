{
 "cells": [
  {
   "cell_type": "markdown",
   "metadata": {},
   "source": [
    "# Submitted by: N.PAVAN PRATEEK\n"
   ]
  },
  {
   "cell_type": "markdown",
   "metadata": {},
   "source": [
    "# For Bipolar Factory internship Assessment.\n"
   ]
  },
  {
   "cell_type": "markdown",
   "metadata": {},
   "source": [
    "# Date of Submission: 27rd April 2020"
   ]
  },
  {
   "cell_type": "markdown",
   "metadata": {},
   "source": [
    "Crawl news & information websites & anticipate the likelihood of its virality"
   ]
  },
  {
   "cell_type": "code",
   "execution_count": 6,
   "metadata": {},
   "outputs": [
    {
     "name": "stdout",
     "output_type": "stream",
     "text": [
      "Requirement already satisfied: newspaper3k in c:\\users\\pavan\\anaconda3\\lib\\site-packages (0.2.8)\n",
      "Requirement already satisfied: nltk>=3.2.1 in c:\\users\\pavan\\anaconda3\\lib\\site-packages (from newspaper3k) (3.4.5)\n",
      "Requirement already satisfied: cssselect>=0.9.2 in c:\\users\\pavan\\anaconda3\\lib\\site-packages (from newspaper3k) (1.1.0)\n",
      "Requirement already satisfied: jieba3k>=0.35.1 in c:\\users\\pavan\\anaconda3\\lib\\site-packages (from newspaper3k) (0.35.1)\n",
      "Requirement already satisfied: tinysegmenter==0.3 in c:\\users\\pavan\\anaconda3\\lib\\site-packages (from newspaper3k) (0.3)\n",
      "Requirement already satisfied: beautifulsoup4>=4.4.1 in c:\\users\\pavan\\anaconda3\\lib\\site-packages (from newspaper3k) (4.8.0)\n",
      "Requirement already satisfied: python-dateutil>=2.5.3 in c:\\users\\pavan\\anaconda3\\lib\\site-packages (from newspaper3k) (2.8.0)\n",
      "Requirement already satisfied: Pillow>=3.3.0 in c:\\users\\pavan\\anaconda3\\lib\\site-packages (from newspaper3k) (6.2.0)\n",
      "Requirement already satisfied: requests>=2.10.0 in c:\\users\\pavan\\anaconda3\\lib\\site-packages (from newspaper3k) (2.22.0)\n",
      "Requirement already satisfied: lxml>=3.6.0 in c:\\users\\pavan\\anaconda3\\lib\\site-packages (from newspaper3k) (4.4.1)\n",
      "Requirement already satisfied: tldextract>=2.0.1 in c:\\users\\pavan\\anaconda3\\lib\\site-packages (from newspaper3k) (2.2.2)\n",
      "Requirement already satisfied: feedfinder2>=0.0.4 in c:\\users\\pavan\\anaconda3\\lib\\site-packages (from newspaper3k) (0.0.4)\n",
      "Requirement already satisfied: PyYAML>=3.11 in c:\\users\\pavan\\anaconda3\\lib\\site-packages (from newspaper3k) (5.1.2)\n",
      "Requirement already satisfied: feedparser>=5.2.1 in c:\\users\\pavan\\anaconda3\\lib\\site-packages (from newspaper3k) (5.2.1)\n",
      "Requirement already satisfied: six in c:\\users\\pavan\\anaconda3\\lib\\site-packages (from nltk>=3.2.1->newspaper3k) (1.12.0)\n",
      "Requirement already satisfied: soupsieve>=1.2 in c:\\users\\pavan\\anaconda3\\lib\\site-packages (from beautifulsoup4>=4.4.1->newspaper3k) (1.9.3)\n",
      "Requirement already satisfied: idna<2.9,>=2.5 in c:\\users\\pavan\\anaconda3\\lib\\site-packages (from requests>=2.10.0->newspaper3k) (2.8)\n",
      "Requirement already satisfied: chardet<3.1.0,>=3.0.2 in c:\\users\\pavan\\anaconda3\\lib\\site-packages (from requests>=2.10.0->newspaper3k) (3.0.4)\n",
      "Requirement already satisfied: urllib3!=1.25.0,!=1.25.1,<1.26,>=1.21.1 in c:\\users\\pavan\\anaconda3\\lib\\site-packages (from requests>=2.10.0->newspaper3k) (1.24.2)\n",
      "Requirement already satisfied: certifi>=2017.4.17 in c:\\users\\pavan\\anaconda3\\lib\\site-packages (from requests>=2.10.0->newspaper3k) (2019.9.11)\n",
      "Requirement already satisfied: setuptools in c:\\users\\pavan\\anaconda3\\lib\\site-packages (from tldextract>=2.0.1->newspaper3k) (41.4.0)\n",
      "Requirement already satisfied: requests-file>=1.4 in c:\\users\\pavan\\anaconda3\\lib\\site-packages (from tldextract>=2.0.1->newspaper3k) (1.5.1)\n",
      "Note: you may need to restart the kernel to use updated packages.\n"
     ]
    }
   ],
   "source": [
    "pip install newspaper3k"
   ]
  },
  {
   "cell_type": "code",
   "execution_count": 1,
   "metadata": {},
   "outputs": [],
   "source": [
    "import requests\n",
    "from bs4 import BeautifulSoup\n",
    "from newspaper import Article  \n",
    "import csv \n",
    "import nltk\n",
    "import pandas as pd\n",
    "import numpy as np"
   ]
  },
  {
   "cell_type": "markdown",
   "metadata": {},
   "source": [
    "# Crawling News from Times  Website"
   ]
  },
  {
   "cell_type": "code",
   "execution_count": 2,
   "metadata": {},
   "outputs": [],
   "source": [
    "url = \"https://timesofindia.indiatimes.com/world\"\n",
    "r = requests.get(url)\n",
    "\n",
    "soup = BeautifulSoup(r.content, 'html5lib')\n",
    "table = soup.findAll('a', attrs = {'class':'w_img'})"
   ]
  },
  {
   "cell_type": "code",
   "execution_count": 3,
   "metadata": {},
   "outputs": [],
   "source": [
    "news=[]\n",
    "for row in table: \n",
    "    if not row['href'].startswith('http'):\n",
    "        news.append('https://timesofindia.indiatimes.com'+row['href'])"
   ]
  },
  {
   "cell_type": "code",
   "execution_count": 21,
   "metadata": {},
   "outputs": [],
   "source": [
    "df=[]\n",
    "for i in news:\n",
    "    ap= Article(i, language=\"en\")\n",
    "    ap.download() \n",
    "    ap.parse() \n",
    "    ap.nlp() \n",
    "    d={}\n",
    "    d['heading']=ap.title\n",
    "    d['content']=ap.text\n",
    "    d['brief']=ap.summary\n",
    "    d['main']=ap.keywords\n",
    "    df.append(d)"
   ]
  },
  {
   "cell_type": "code",
   "execution_count": 22,
   "metadata": {},
   "outputs": [
    {
     "data": {
      "text/html": [
       "<div>\n",
       "<style scoped>\n",
       "    .dataframe tbody tr th:only-of-type {\n",
       "        vertical-align: middle;\n",
       "    }\n",
       "\n",
       "    .dataframe tbody tr th {\n",
       "        vertical-align: top;\n",
       "    }\n",
       "\n",
       "    .dataframe thead th {\n",
       "        text-align: right;\n",
       "    }\n",
       "</style>\n",
       "<table border=\"1\" class=\"dataframe\">\n",
       "  <thead>\n",
       "    <tr style=\"text-align: right;\">\n",
       "      <th></th>\n",
       "      <th>heading</th>\n",
       "      <th>content</th>\n",
       "      <th>brief</th>\n",
       "      <th>main</th>\n",
       "    </tr>\n",
       "  </thead>\n",
       "  <tbody>\n",
       "    <tr>\n",
       "      <td>0</td>\n",
       "      <td>Brazil's Supreme Court authorizes investigatio...</td>\n",
       "      <td>Brazil's President Jair Bolsonaro (AP)\\n\\nDown...</td>\n",
       "      <td>Brazil's President Jair Bolsonaro (AP)Download...</td>\n",
       "      <td>[court, bolsonaro, times, federal, supreme, au...</td>\n",
       "    </tr>\n",
       "    <tr>\n",
       "      <td>1</td>\n",
       "      <td>Covid-19: Mayor entertains residents after imp...</td>\n",
       "      <td>Apr 27, 2020, 08:27AM IST\\n\\nSource: AP\\n\\nThe...</td>\n",
       "      <td>Apr 27, 2020, 08:27AM ISTSource: APThe videos,...</td>\n",
       "      <td>[entertains, curfew, residents, imposing, dont...</td>\n",
       "    </tr>\n",
       "    <tr>\n",
       "      <td>2</td>\n",
       "      <td>UK PM Boris Johnson returns to work after reco...</td>\n",
       "      <td>Apr 27, 2020, 08:40AM IST\\n\\nSource: Times Now...</td>\n",
       "      <td>Apr 27, 2020, 08:40AM ISTSource: Times NowBrit...</td>\n",
       "      <td>[street, times, uk, virus, boris, worst, retur...</td>\n",
       "    </tr>\n",
       "    <tr>\n",
       "      <td>3</td>\n",
       "      <td>1 officer dead, 1 wounded in Louisiana shooting</td>\n",
       "      <td>Apr 27, 2020, 08:28AM IST\\n\\nSource: AP\\n\\nPol...</td>\n",
       "      <td>Apr 27, 2020, 08:28AM ISTSource: APPolice say ...</td>\n",
       "      <td>[say, officers, paul, wounded, officer, dead, ...</td>\n",
       "    </tr>\n",
       "    <tr>\n",
       "      <td>4</td>\n",
       "      <td>Covid-19: Lockdown reveals fresh and clean air...</td>\n",
       "      <td>Apr 22, 2020, 04:03PM IST\\n\\nSource: AP\\n\\nInd...</td>\n",
       "      <td>Apr 22, 2020, 04:03PM ISTSource: APIndia's ext...</td>\n",
       "      <td>[lockdown, clean, air, fresh, unprecedented, t...</td>\n",
       "    </tr>\n",
       "  </tbody>\n",
       "</table>\n",
       "</div>"
      ],
      "text/plain": [
       "                                             heading  \\\n",
       "0  Brazil's Supreme Court authorizes investigatio...   \n",
       "1  Covid-19: Mayor entertains residents after imp...   \n",
       "2  UK PM Boris Johnson returns to work after reco...   \n",
       "3    1 officer dead, 1 wounded in Louisiana shooting   \n",
       "4  Covid-19: Lockdown reveals fresh and clean air...   \n",
       "\n",
       "                                             content  \\\n",
       "0  Brazil's President Jair Bolsonaro (AP)\\n\\nDown...   \n",
       "1  Apr 27, 2020, 08:27AM IST\\n\\nSource: AP\\n\\nThe...   \n",
       "2  Apr 27, 2020, 08:40AM IST\\n\\nSource: Times Now...   \n",
       "3  Apr 27, 2020, 08:28AM IST\\n\\nSource: AP\\n\\nPol...   \n",
       "4  Apr 22, 2020, 04:03PM IST\\n\\nSource: AP\\n\\nInd...   \n",
       "\n",
       "                                               brief  \\\n",
       "0  Brazil's President Jair Bolsonaro (AP)Download...   \n",
       "1  Apr 27, 2020, 08:27AM ISTSource: APThe videos,...   \n",
       "2  Apr 27, 2020, 08:40AM ISTSource: Times NowBrit...   \n",
       "3  Apr 27, 2020, 08:28AM ISTSource: APPolice say ...   \n",
       "4  Apr 22, 2020, 04:03PM ISTSource: APIndia's ext...   \n",
       "\n",
       "                                                main  \n",
       "0  [court, bolsonaro, times, federal, supreme, au...  \n",
       "1  [entertains, curfew, residents, imposing, dont...  \n",
       "2  [street, times, uk, virus, boris, worst, retur...  \n",
       "3  [say, officers, paul, wounded, officer, dead, ...  \n",
       "4  [lockdown, clean, air, fresh, unprecedented, t...  "
      ]
     },
     "execution_count": 22,
     "metadata": {},
     "output_type": "execute_result"
    }
   ],
   "source": [
    "data=pd.DataFrame(df)\n",
    "data.head()"
   ]
  },
  {
   "cell_type": "markdown",
   "metadata": {},
   "source": [
    "# Model for predicting virality of news"
   ]
  },
  {
   "cell_type": "code",
   "execution_count": 23,
   "metadata": {},
   "outputs": [],
   "source": [
    "from sklearn.ensemble import RandomForestRegressor\n",
    "from sklearn.model_selection import train_test_split"
   ]
  },
  {
   "cell_type": "code",
   "execution_count": 24,
   "metadata": {},
   "outputs": [],
   "source": [
    "FILEPATH=r\"C:\\Users\\pavan\\Downloads\\crawl.csv\""
   ]
  },
  {
   "cell_type": "code",
   "execution_count": 25,
   "metadata": {},
   "outputs": [],
   "source": [
    "def clean(data):\n",
    "    cleans= {x: x.lower().strip() for x in list(data)}\n",
    "    return data.rename(index=str, columns=cleans)\n",
    "\n",
    "def TrainTestSplit(X, Y, R=0, test_size=0.2):\n",
    "    return train_test_split(X, Y, test_size=test_size, random_state=R)"
   ]
  },
  {
   "cell_type": "markdown",
   "metadata": {},
   "source": [
    "#### I have droped these features "
   ]
  },
  {
   "cell_type": "code",
   "execution_count": 26,
   "metadata": {},
   "outputs": [],
   "source": [
    "full= clean(pd.read_csv(FILEPATH))\n",
    "train_set, test_set = train_test_split(full_data, test_size=0.20, random_state=42)\n",
    "\n",
    "x_train = train_set.drop(['url','shares','self_reference_min_shares','self_reference_max_shares','self_reference_avg_sharess','abs_title_subjectivity','abs_title_sentiment_polarity'], axis=1)\n",
    "y_train = train_set['shares']\n",
    "\n",
    "x_test = test_set.drop(['url','shares', 'self_reference_min_shares','self_reference_max_shares','self_reference_avg_sharess','abs_title_subjectivity','abs_title_sentiment_polarity'], axis=1)\n",
    "y_test = test_set['shares']"
   ]
  },
  {
   "cell_type": "code",
   "execution_count": 27,
   "metadata": {},
   "outputs": [
    {
     "name": "stderr",
     "output_type": "stream",
     "text": [
      "C:\\Users\\pavan\\Anaconda3\\lib\\site-packages\\sklearn\\ensemble\\forest.py:245: FutureWarning: The default value of n_estimators will change from 10 in version 0.20 to 100 in 0.22.\n",
      "  \"10 in version 0.20 to 100 in 0.22.\", FutureWarning)\n"
     ]
    },
    {
     "data": {
      "text/plain": [
       "RandomForestRegressor(bootstrap=True, criterion='mse', max_depth=None,\n",
       "                      max_features='auto', max_leaf_nodes=None,\n",
       "                      min_impurity_decrease=0.0, min_impurity_split=None,\n",
       "                      min_samples_leaf=1, min_samples_split=2,\n",
       "                      min_weight_fraction_leaf=0.0, n_estimators=10,\n",
       "                      n_jobs=None, oob_score=False, random_state=42, verbose=0,\n",
       "                      warm_start=False)"
      ]
     },
     "execution_count": 27,
     "metadata": {},
     "output_type": "execute_result"
    }
   ],
   "source": [
    "clf = RandomForestRegressor(random_state=42)\n",
    "clf.fit(x_train, y_train)"
   ]
  },
  {
   "cell_type": "markdown",
   "metadata": {},
   "source": [
    "# Converting Crawled News"
   ]
  },
  {
   "cell_type": "code",
   "execution_count": 44,
   "metadata": {},
   "outputs": [],
   "source": [
    "from nltk.tokenize import word_tokenize \n",
    "from textblob import TextBlob\n",
    "def kill(text):\n",
    "    text=text\n",
    "    return word_tokenize(text)"
   ]
  },
  {
   "cell_type": "code",
   "execution_count": 45,
   "metadata": {},
   "outputs": [],
   "source": [
    "df2=[]\n",
    "for i in news:\n",
    "    pred_info={}\n",
    "    p= Article(i, language=\"en\")\n",
    "    p.download() \n",
    "    p.parse()\n",
    "    a2=TextBlob(p.text)\n",
    "    polarity=a2.sentiment.polarity\n",
    "    title=TextBlob(p.title)\n",
    "    pred_info['text']=p.text\n",
    "    pred_info['n-title']=len(kill(p.title))\n",
    "    pred_info['n-content']=len(kill(p.text))\n",
    "    pred_info['n-hrefs']=p.html.count(\"https://timesofindia.indiatimes.com\")\n",
    "    pred_info['n-imgs']=len(p.images)\n",
    "    pred_info['n-subjectivity']=title.sentiment.subjectivity\n",
    "    pred_info['n-sentiment_polarity']=title.sentiment.polarity\n",
    "    df2.append(pred_info)"
   ]
  },
  {
   "cell_type": "code",
   "execution_count": 42,
   "metadata": {},
   "outputs": [
    {
     "data": {
      "text/html": [
       "<div>\n",
       "<style scoped>\n",
       "    .dataframe tbody tr th:only-of-type {\n",
       "        vertical-align: middle;\n",
       "    }\n",
       "\n",
       "    .dataframe tbody tr th {\n",
       "        vertical-align: top;\n",
       "    }\n",
       "\n",
       "    .dataframe thead th {\n",
       "        text-align: right;\n",
       "    }\n",
       "</style>\n",
       "<table border=\"1\" class=\"dataframe\">\n",
       "  <thead>\n",
       "    <tr style=\"text-align: right;\">\n",
       "      <th></th>\n",
       "      <th>text</th>\n",
       "      <th>n-title</th>\n",
       "      <th>n-content</th>\n",
       "      <th>n-hrefs</th>\n",
       "      <th>n-imgs</th>\n",
       "      <th>n-subjectivity</th>\n",
       "      <th>n-sentiment_polarity</th>\n",
       "    </tr>\n",
       "  </thead>\n",
       "  <tbody>\n",
       "    <tr>\n",
       "      <td>0</td>\n",
       "      <td>Brazil's President Jair Bolsonaro (AP)\\n\\nDown...</td>\n",
       "      <td>13</td>\n",
       "      <td>384</td>\n",
       "      <td>229</td>\n",
       "      <td>13</td>\n",
       "      <td>0.0</td>\n",
       "      <td>0.000000</td>\n",
       "    </tr>\n",
       "    <tr>\n",
       "      <td>1</td>\n",
       "      <td>Apr 27, 2020, 08:27AM IST\\n\\nSource: AP\\n\\nThe...</td>\n",
       "      <td>8</td>\n",
       "      <td>190</td>\n",
       "      <td>185</td>\n",
       "      <td>9</td>\n",
       "      <td>0.0</td>\n",
       "      <td>0.000000</td>\n",
       "    </tr>\n",
       "    <tr>\n",
       "      <td>2</td>\n",
       "      <td>Apr 27, 2020, 08:40AM IST\\n\\nSource: Times Now...</td>\n",
       "      <td>11</td>\n",
       "      <td>97</td>\n",
       "      <td>185</td>\n",
       "      <td>9</td>\n",
       "      <td>0.0</td>\n",
       "      <td>0.000000</td>\n",
       "    </tr>\n",
       "    <tr>\n",
       "      <td>3</td>\n",
       "      <td>Apr 27, 2020, 08:28AM IST\\n\\nSource: AP\\n\\nPol...</td>\n",
       "      <td>9</td>\n",
       "      <td>153</td>\n",
       "      <td>185</td>\n",
       "      <td>9</td>\n",
       "      <td>0.4</td>\n",
       "      <td>-0.200000</td>\n",
       "    </tr>\n",
       "    <tr>\n",
       "      <td>4</td>\n",
       "      <td>Apr 22, 2020, 04:03PM IST\\n\\nSource: AP\\n\\nInd...</td>\n",
       "      <td>10</td>\n",
       "      <td>124</td>\n",
       "      <td>185</td>\n",
       "      <td>9</td>\n",
       "      <td>0.6</td>\n",
       "      <td>0.333333</td>\n",
       "    </tr>\n",
       "  </tbody>\n",
       "</table>\n",
       "</div>"
      ],
      "text/plain": [
       "                                                text  n-title  n-content  \\\n",
       "0  Brazil's President Jair Bolsonaro (AP)\\n\\nDown...       13        384   \n",
       "1  Apr 27, 2020, 08:27AM IST\\n\\nSource: AP\\n\\nThe...        8        190   \n",
       "2  Apr 27, 2020, 08:40AM IST\\n\\nSource: Times Now...       11         97   \n",
       "3  Apr 27, 2020, 08:28AM IST\\n\\nSource: AP\\n\\nPol...        9        153   \n",
       "4  Apr 22, 2020, 04:03PM IST\\n\\nSource: AP\\n\\nInd...       10        124   \n",
       "\n",
       "   n-hrefs  n-imgs  n-subjectivity  n-sentiment_polarity  \n",
       "0      229      13             0.0              0.000000  \n",
       "1      185       9             0.0              0.000000  \n",
       "2      185       9             0.0              0.000000  \n",
       "3      185       9             0.4             -0.200000  \n",
       "4      185       9             0.6              0.333333  "
      ]
     },
     "execution_count": 42,
     "metadata": {},
     "output_type": "execute_result"
    }
   ],
   "source": [
    "pr=pd.DataFrame(df2)\n",
    "pt=pr.drop(['text'],axis=1)\n",
    "pr.head()"
   ]
  },
  {
   "cell_type": "markdown",
   "metadata": {},
   "source": [
    "# Final Results of the Likelihood of Virality of News"
   ]
  },
  {
   "cell_type": "code",
   "execution_count": 43,
   "metadata": {},
   "outputs": [
    {
     "data": {
      "text/html": [
       "<div>\n",
       "<style scoped>\n",
       "    .dataframe tbody tr th:only-of-type {\n",
       "        vertical-align: middle;\n",
       "    }\n",
       "\n",
       "    .dataframe tbody tr th {\n",
       "        vertical-align: top;\n",
       "    }\n",
       "\n",
       "    .dataframe thead th {\n",
       "        text-align: right;\n",
       "    }\n",
       "</style>\n",
       "<table border=\"1\" class=\"dataframe\">\n",
       "  <thead>\n",
       "    <tr style=\"text-align: right;\">\n",
       "      <th></th>\n",
       "      <th>text</th>\n",
       "      <th>Virality</th>\n",
       "    </tr>\n",
       "  </thead>\n",
       "  <tbody>\n",
       "    <tr>\n",
       "      <td>0</td>\n",
       "      <td>Brazil's President Jair Bolsonaro (AP)\\n\\nDown...</td>\n",
       "      <td>19131.8</td>\n",
       "    </tr>\n",
       "    <tr>\n",
       "      <td>1</td>\n",
       "      <td>Apr 27, 2020, 08:27AM IST\\n\\nSource: AP\\n\\nThe...</td>\n",
       "      <td>5050.0</td>\n",
       "    </tr>\n",
       "    <tr>\n",
       "      <td>2</td>\n",
       "      <td>Apr 27, 2020, 08:40AM IST\\n\\nSource: Times Now...</td>\n",
       "      <td>5456.0</td>\n",
       "    </tr>\n",
       "    <tr>\n",
       "      <td>3</td>\n",
       "      <td>Apr 27, 2020, 08:28AM IST\\n\\nSource: AP\\n\\nPol...</td>\n",
       "      <td>6739.6</td>\n",
       "    </tr>\n",
       "    <tr>\n",
       "      <td>4</td>\n",
       "      <td>Apr 22, 2020, 04:03PM IST\\n\\nSource: AP\\n\\nInd...</td>\n",
       "      <td>6770.0</td>\n",
       "    </tr>\n",
       "    <tr>\n",
       "      <td>5</td>\n",
       "      <td>Apr 22, 2020, 03:58PM IST\\n\\nSource: AP\\n\\nIra...</td>\n",
       "      <td>1877.1</td>\n",
       "    </tr>\n",
       "    <tr>\n",
       "      <td>6</td>\n",
       "      <td>Apr 22, 2020, 04:04PM IST\\n\\nSource: AP\\n\\nAn ...</td>\n",
       "      <td>8010.0</td>\n",
       "    </tr>\n",
       "    <tr>\n",
       "      <td>7</td>\n",
       "      <td>Apr 22, 2020, 03:57PM IST\\n\\nSource: AP\\n\\nFou...</td>\n",
       "      <td>4726.0</td>\n",
       "    </tr>\n",
       "    <tr>\n",
       "      <td>8</td>\n",
       "      <td>Apr 21, 2020, 09:25AM IST\\n\\nSource: Times Now...</td>\n",
       "      <td>36140.0</td>\n",
       "    </tr>\n",
       "    <tr>\n",
       "      <td>9</td>\n",
       "      <td>Apr 21, 2020, 03:38PM IST\\n\\nSource: AP\\n\\nA s...</td>\n",
       "      <td>6135.1</td>\n",
       "    </tr>\n",
       "    <tr>\n",
       "      <td>10</td>\n",
       "      <td>Apr 21, 2020, 03:42PM IST\\n\\nSource: AP\\n\\nPre...</td>\n",
       "      <td>20177.0</td>\n",
       "    </tr>\n",
       "    <tr>\n",
       "      <td>11</td>\n",
       "      <td>Download The Times of India News App for Lates...</td>\n",
       "      <td>42175.8</td>\n",
       "    </tr>\n",
       "    <tr>\n",
       "      <td>12</td>\n",
       "      <td>Pakistan Army chief Gen Qamar Javed Bajwa (Fil...</td>\n",
       "      <td>35398.7</td>\n",
       "    </tr>\n",
       "    <tr>\n",
       "      <td>13</td>\n",
       "      <td>Representational Image. (AP Photo)\\n\\nMore on ...</td>\n",
       "      <td>5490.0</td>\n",
       "    </tr>\n",
       "    <tr>\n",
       "      <td>14</td>\n",
       "      <td>Britain's Prime Minister Boris Johnson speaks ...</td>\n",
       "      <td>42345.8</td>\n",
       "    </tr>\n",
       "    <tr>\n",
       "      <td>15</td>\n",
       "      <td>File photo used for representation. (AP)\\n\\nDo...</td>\n",
       "      <td>2796.8</td>\n",
       "    </tr>\n",
       "    <tr>\n",
       "      <td>16</td>\n",
       "      <td>Download The Times of India News App for Lates...</td>\n",
       "      <td>42702.9</td>\n",
       "    </tr>\n",
       "    <tr>\n",
       "      <td>17</td>\n",
       "      <td>Amazon Audible: Listen to the best of audioboo...</td>\n",
       "      <td>3169.6</td>\n",
       "    </tr>\n",
       "    <tr>\n",
       "      <td>18</td>\n",
       "      <td>A man (C) wearing a face mask stands on a stre...</td>\n",
       "      <td>37170.0</td>\n",
       "    </tr>\n",
       "    <tr>\n",
       "      <td>19</td>\n",
       "      <td>A man was arrested at the N12 roadblock on Fri...</td>\n",
       "      <td>3960.3</td>\n",
       "    </tr>\n",
       "    <tr>\n",
       "      <td>20</td>\n",
       "      <td>WASHINGTON: US President Donald Trump has nomi...</td>\n",
       "      <td>10924.9</td>\n",
       "    </tr>\n",
       "    <tr>\n",
       "      <td>21</td>\n",
       "      <td>SINGAPORE: A 33-year-old Indian worker was kil...</td>\n",
       "      <td>4686.9</td>\n",
       "    </tr>\n",
       "    <tr>\n",
       "      <td>22</td>\n",
       "      <td>WASHINGTON: Seema Nanda has announced her deci...</td>\n",
       "      <td>5350.0</td>\n",
       "    </tr>\n",
       "    <tr>\n",
       "      <td>23</td>\n",
       "      <td>HOUSTON: Renu Khator , an Indian-American univ...</td>\n",
       "      <td>5977.5</td>\n",
       "    </tr>\n",
       "    <tr>\n",
       "      <td>24</td>\n",
       "      <td>WASHINGTON: An Indian-American NGO has raised ...</td>\n",
       "      <td>4668.8</td>\n",
       "    </tr>\n",
       "    <tr>\n",
       "      <td>25</td>\n",
       "      <td>MYSURU: A day after she was given 'Drive of Ho...</td>\n",
       "      <td>5594.6</td>\n",
       "    </tr>\n",
       "    <tr>\n",
       "      <td>26</td>\n",
       "      <td>SINGAPORE: A 52-year-old Indian-origin man was...</td>\n",
       "      <td>8487.5</td>\n",
       "    </tr>\n",
       "    <tr>\n",
       "      <td>27</td>\n",
       "      <td>Representative image\\n\\nDownload The Times of ...</td>\n",
       "      <td>29032.9</td>\n",
       "    </tr>\n",
       "    <tr>\n",
       "      <td>28</td>\n",
       "      <td>Apr 28, 2020, 09:14AM IST\\n\\nSource: Times Now...</td>\n",
       "      <td>6219.7</td>\n",
       "    </tr>\n",
       "    <tr>\n",
       "      <td>29</td>\n",
       "      <td>After recovering from COVID-19, the 42-year-ol...</td>\n",
       "      <td>5660.0</td>\n",
       "    </tr>\n",
       "    <tr>\n",
       "      <td>30</td>\n",
       "      <td>If you take a look at Elli AvrRam's Instagram ...</td>\n",
       "      <td>3450.0</td>\n",
       "    </tr>\n",
       "    <tr>\n",
       "      <td>31</td>\n",
       "      <td>Apr 28, 2020, 08:06AM IST\\n\\nSource: TOI.in\\n\\...</td>\n",
       "      <td>13840.0</td>\n",
       "    </tr>\n",
       "    <tr>\n",
       "      <td>32</td>\n",
       "      <td>Apr 27, 2020, 01:11PM IST\\n\\nSource: ANI\\n\\nA ...</td>\n",
       "      <td>4659.7</td>\n",
       "    </tr>\n",
       "  </tbody>\n",
       "</table>\n",
       "</div>"
      ],
      "text/plain": [
       "                                                 text  Virality\n",
       "0   Brazil's President Jair Bolsonaro (AP)\\n\\nDown...   19131.8\n",
       "1   Apr 27, 2020, 08:27AM IST\\n\\nSource: AP\\n\\nThe...    5050.0\n",
       "2   Apr 27, 2020, 08:40AM IST\\n\\nSource: Times Now...    5456.0\n",
       "3   Apr 27, 2020, 08:28AM IST\\n\\nSource: AP\\n\\nPol...    6739.6\n",
       "4   Apr 22, 2020, 04:03PM IST\\n\\nSource: AP\\n\\nInd...    6770.0\n",
       "5   Apr 22, 2020, 03:58PM IST\\n\\nSource: AP\\n\\nIra...    1877.1\n",
       "6   Apr 22, 2020, 04:04PM IST\\n\\nSource: AP\\n\\nAn ...    8010.0\n",
       "7   Apr 22, 2020, 03:57PM IST\\n\\nSource: AP\\n\\nFou...    4726.0\n",
       "8   Apr 21, 2020, 09:25AM IST\\n\\nSource: Times Now...   36140.0\n",
       "9   Apr 21, 2020, 03:38PM IST\\n\\nSource: AP\\n\\nA s...    6135.1\n",
       "10  Apr 21, 2020, 03:42PM IST\\n\\nSource: AP\\n\\nPre...   20177.0\n",
       "11  Download The Times of India News App for Lates...   42175.8\n",
       "12  Pakistan Army chief Gen Qamar Javed Bajwa (Fil...   35398.7\n",
       "13  Representational Image. (AP Photo)\\n\\nMore on ...    5490.0\n",
       "14  Britain's Prime Minister Boris Johnson speaks ...   42345.8\n",
       "15  File photo used for representation. (AP)\\n\\nDo...    2796.8\n",
       "16  Download The Times of India News App for Lates...   42702.9\n",
       "17  Amazon Audible: Listen to the best of audioboo...    3169.6\n",
       "18  A man (C) wearing a face mask stands on a stre...   37170.0\n",
       "19  A man was arrested at the N12 roadblock on Fri...    3960.3\n",
       "20  WASHINGTON: US President Donald Trump has nomi...   10924.9\n",
       "21  SINGAPORE: A 33-year-old Indian worker was kil...    4686.9\n",
       "22  WASHINGTON: Seema Nanda has announced her deci...    5350.0\n",
       "23  HOUSTON: Renu Khator , an Indian-American univ...    5977.5\n",
       "24  WASHINGTON: An Indian-American NGO has raised ...    4668.8\n",
       "25  MYSURU: A day after she was given 'Drive of Ho...    5594.6\n",
       "26  SINGAPORE: A 52-year-old Indian-origin man was...    8487.5\n",
       "27  Representative image\\n\\nDownload The Times of ...   29032.9\n",
       "28  Apr 28, 2020, 09:14AM IST\\n\\nSource: Times Now...    6219.7\n",
       "29  After recovering from COVID-19, the 42-year-ol...    5660.0\n",
       "30  If you take a look at Elli AvrRam's Instagram ...    3450.0\n",
       "31  Apr 28, 2020, 08:06AM IST\\n\\nSource: TOI.in\\n\\...   13840.0\n",
       "32  Apr 27, 2020, 01:11PM IST\\n\\nSource: ANI\\n\\nA ...    4659.7"
      ]
     },
     "execution_count": 43,
     "metadata": {},
     "output_type": "execute_result"
    }
   ],
   "source": [
    "test2=pd.DataFrame(clf.predict(pt),pr['text'])\n",
    "test2.reset_index(level=0, inplace=True)\n",
    "test2 = test2.rename(index=str, columns={\"index\": \"News\", 0: \"Virality\"})\n",
    "test2"
   ]
  },
  {
   "cell_type": "code",
   "execution_count": null,
   "metadata": {},
   "outputs": [],
   "source": []
  }
 ],
 "metadata": {
  "kernelspec": {
   "display_name": "Python 3",
   "language": "python",
   "name": "python3"
  },
  "language_info": {
   "codemirror_mode": {
    "name": "ipython",
    "version": 3
   },
   "file_extension": ".py",
   "mimetype": "text/x-python",
   "name": "python",
   "nbconvert_exporter": "python",
   "pygments_lexer": "ipython3",
   "version": "3.7.4"
  }
 },
 "nbformat": 4,
 "nbformat_minor": 2
}
